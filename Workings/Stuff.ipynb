{
 "cells": [
  {
   "cell_type": "code",
   "execution_count": null,
   "id": "feecfa66-1f52-4991-9b54-b0fe0213eafb",
   "metadata": {},
   "outputs": [],
   "source": [
    "player_gamelog = playergamelog.PlayerGameLog(player_id = 2544, season = 2022)\n",
    "df_games = player_gamelog.get_data_frames()\n",
    "player_df = df_games[0]\n",
    "player_df['FPG'] = 1* player_df['PTS'] + 0.5*player_df['FG3M'] + 1.25*player_df['REB'] + 1.5*player_df['AST'] + 2*player_df['STL'] + 2*player_df['BLK'] - 0.5*player_df['TOV']\n",
    "player_df['FPM'] = player_df['FPG']/player_df['MIN']\n",
    "fantasy_df = player_df[['GAME_DATE', 'MATCHUP', 'MIN', 'PTS', 'FG3M', 'REB', 'AST', 'STL', 'BLK', 'TOV', 'FPG', 'FPM']]\n",
    "fantasy_df.head()\n"
   ]
  },
  {
   "cell_type": "code",
   "execution_count": null,
   "id": "30d4e385-b992-4566-a2c2-012bd0b240d9",
   "metadata": {},
   "outputs": [],
   "source": [
    "def get_fantasy_df():\n",
    "    \"\"\"\n",
    "    Read in csv files from data file and return only valuable dataset to us.\n",
    "    Will be automated to account for different years\n",
    "    \"\"\"\n",
    "    csv_path = Path(\"data/2023.csv\")\n",
    "    player_df = pd.read_csv(csv_path)\n",
    "    player_df['FPG'] = 1* player_df['PTS'] + 0.5*player_df['3P'] + 1.25*player_df['TRB'] + 1.5*player_df['AST'] + 2*player_df['STL'] + 2*player_df['BLK'] -0.5*player_df['TOV'] \n",
    "    player_df['FPM'] = player_df['FPG']/player_df['MP']\n",
    "    fantasy_df = player_df[['Player', 'Tm', 'Pos', 'MP', 'PTS', '3P', 'TRB', 'AST', 'STL', 'BLK', 'TOV', 'FPG', 'FPM']]\n",
    "    fantasy_df = fantasy_df.drop_duplicates(subset = ['Player'], keep='last')\n",
    "    \n",
    "    return fantasy_df"
   ]
  },
  {
   "cell_type": "code",
   "execution_count": null,
   "id": "4f603020-263e-46ba-b7e3-b9a87d54a460",
   "metadata": {},
   "outputs": [],
   "source": [
    "def get_lines_data():\n",
    "    \"\"\"\n",
    "    2023 Lines data sourced from covers.com.\n",
    "    Function reads and cleans csv file\n",
    "    \"\"\"\n",
    "    csv_path = Path(\"data/Lines.csv\")\n",
    "    lines_df = pd.read_csv(csv_path)\n",
    "    lines_df[\"AvL\"] = lines_df['PPG'] + lines_df['PAG']\n",
    "    lines_df = lines_df[['Tm','Team', 'AvL']]\n",
    "    lines_df[\"Margin\"] = lines_df[\"AvL\"]/lines_df[\"AvL\"].mean()\n",
    "\n",
    "    return lines_df"
   ]
  },
  {
   "cell_type": "code",
   "execution_count": null,
   "id": "c543fe7c-d591-4e74-8519-526613c3f915",
   "metadata": {},
   "outputs": [],
   "source": [
    "def get_minutes_data():\n",
    "    \"\"\"\n",
    "    Returns minutes of the last 10 games per player. \n",
    "    Use this as expected minutes.\n",
    "    \"\"\"\n",
    "    csv_path = Path(\"data/NBA_minutes.csv\")\n",
    "    minutes_df = pd.read_csv(csv_path)\n",
    "    minutes_df = minutes_df.drop_duplicates(subset = ['Player'], keep='first')\n",
    "    minutes_df = minutes_df[['Player', 'L10']]\n",
    "    \n",
    "    return minutes_df"
   ]
  },
  {
   "cell_type": "code",
   "execution_count": null,
   "id": "1c95d124-29eb-4c7e-8c1d-3f5f4f15bf4d",
   "metadata": {},
   "outputs": [],
   "source": [
    "def get_projection_data():\n",
    "    \"\"\"\n",
    "    Function reads through the 3 databases and cleans through to return \n",
    "    Player, Team, Postion and Projected Points\n",
    "    \"\"\"\n",
    "\n",
    "    df = get_fantasy_df()\n",
    "    line_df = get_lines_data()\n",
    "    minutes_df = get_minutes_data()\n",
    "\n",
    "    #Finding the Position and Player avg. points per game.\n",
    "    group_team = df.groupby([\"Tm\", \"Pos\"])[\"FPG\"].max()\n",
    "    group_team_df = group_team.unstack(level=\"Pos\")\n",
    "\n",
    "    #Filling the null values with mean\n",
    "    group_team_df = group_team_df.fillna(group_team_df.mean())\n",
    "\n",
    "    OVP_df = group_team_df.copy()\n",
    "    OVP_df = OVP_df/OVP_df.mean()\n",
    "\n",
    "    clean = df.copy()\n",
    "    clean = pd.merge(OVP_df, clean, on=[\"Tm\"])\n",
    "    clean[\"OVP\"] = clean.lookup(clean.index, clean.Pos)\n",
    "\n",
    "    clean = pd.merge(line_df, clean, on=[\"Tm\"])\n",
    "\n",
    "    clean = pd.merge(minutes_df, clean, on=[\"Player\"])\n",
    "\n",
    "    clean = clean[['Player', 'Tm', 'Pos', 'FPG', 'FPM', 'OVP', 'Margin', 'L10']]\n",
    "    clean[\"Projected_Pts\"] = clean.FPM * clean.OVP * clean.Margin * clean.L10 \n",
    "    clean = clean[['Player', 'Tm', 'Pos', 'Projected_Pts']]\n",
    "    \n",
    "    return clean"
   ]
  },
  {
   "cell_type": "code",
   "execution_count": null,
   "id": "af40ca17-f365-4915-95b5-232796808960",
   "metadata": {},
   "outputs": [],
   "source": [
    "def get_lines_data():\n",
    "    \"\"\"\n",
    "    2023 Lines data sourced from covers.com.\n",
    "    Function reads and cleans csv file\n",
    "    \"\"\"\n",
    "    csv_path = Path(\"data/Lines.csv\")\n",
    "    lines_df = pd.read_csv(csv_path)\n",
    "    lines_df[\"AvL\"] = lines_df['PPG'] + lines_df['PAG']\n",
    "    lines_df = lines_df[['Tm','Team', 'AvL']]\n",
    "    lines_df[\"Margin\"] = line_df[\"AvL\"]/line_df[\"AvL\"].mean()\n",
    "\n",
    "    return lines_df"
   ]
  },
  {
   "cell_type": "code",
   "execution_count": null,
   "id": "1a64f562-c953-4228-9b1b-3f7611183b01",
   "metadata": {},
   "outputs": [],
   "source": [
    "def get_playerlog_plot(player_name, season, logs):\n",
    "    \"\"\"\n",
    "    Returns player plot against average over time\n",
    "    \"\"\"\n",
    "    df = get_player_logs(player_name, season, logs)\n",
    "    fig = px.line(lebron_James, x=\"GAME_DATE\", y=\"FPG\", title=\"FPG\")\n",
    "    fig.add_hline(y=lebron_James[\"FPG\"].mean(), line_width=3, line_dash=\"dash\", line_color=\"green\")\n",
    "    return HTML(fig.to_html())"
   ]
  },
  {
   "cell_type": "code",
   "execution_count": null,
   "id": "374fc1ac-d07b-4330-a1b8-2233f503f80a",
   "metadata": {},
   "outputs": [],
   "source": [
    "player_gamelog = playergamelog.PlayerGameLog(player_id = 2544, season = 2022)\n",
    "df_games = player_gamelog.get_data_frames()\n",
    "player_df = df_games[0]\n",
    "player_df['FPG'] = 1* player_df['PTS'] + 0.5*player_df['FG3M'] + 1.25*player_df['REB'] + 1.5*player_df['AST'] + 2*player_df['STL'] + 2*player_df['BLK'] - 0.5*player_df['TOV']\n",
    "player_df['FPM'] = player_df['FPG']/player_df['MIN']\n",
    "fantasy_df = player_df[['GAME_DATE', 'MATCHUP', 'MIN', 'PTS', 'FG3M', 'REB', 'AST', 'STL', 'BLK', 'TOV', 'FPG', 'FPM']]\n",
    "fantasy_df.head()"
   ]
  },
  {
   "cell_type": "code",
   "execution_count": null,
   "id": "1ce5bc82-ae55-4ef7-98c5-a949e5625c15",
   "metadata": {},
   "outputs": [],
   "source": [
    "def player_id(playername):\n",
    "    player = [player for player in player_dict if player['full_name'] == playername][0]\n",
    "    player_id = player['id']\n",
    "    return player_id\n",
    "\n",
    "#getting team's ID\n",
    "#how to use function: player_id(\"Team's Name\") \n",
    "#for example: team_id('Golden State Warriors')\n",
    "def team_id(teamname):\n",
    "    team_find = [x for x in teams if x['full_name'] == teamname][0]\n",
    "    team_id_no = team_find['id']\n",
    "    return team_id_no\n",
    "\n",
    "#creating a function to get player's data from specific year\n",
    "#type game_log(playerID, season's year)\n",
    "#for example: game_log(2544,2018)\n",
    "\n",
    "def game_log(playerid,season):\n",
    "    player_gamelog = playergamelog.PlayerGameLog(player_id = playerid, season = season)\n",
    "    df_games = player_gamelog.get_data_frames()\n",
    "    return df_games[0]\n",
    "\n",
    "#creating a function to get a player's lifetime career in basketball\n",
    "#type all_season_log(playerID using earlier function)\n",
    "def all_season_log(playerid):\n",
    "    gamelog_bron_all = playergamelog.PlayerGameLog(player_id = playerid, season = SeasonAll.all)\n",
    "    df_bron_games_all = gamelog_bron_all.get_data_frames()\n",
    "    return df_bron_games_all[0]\n",
    "\n",
    "#creating a function to get a team's stats in basketball\n",
    "#type bkb_teamlog(Team's ID using earlier function)\n",
    "\n",
    "def bkb_teamlog(teamid):\n",
    "    team_games = leaguegamefinder.LeagueGameFinder(team_id_nullable = teamid).get_data_frames()[0]\n",
    "    return team_games\n"
   ]
  },
  {
   "cell_type": "code",
   "execution_count": null,
   "id": "7be61c13-80d2-4255-abaf-20f35169811a",
   "metadata": {},
   "outputs": [],
   "source": [
    "#extracting raw data using nba_api package\n",
    "player_dict = players.get_players()\n",
    "teams = teams.get_teams()\n",
    "\n",
    "#converting both dictionaries into Dataframes\n",
    "team = pd.DataFrame(teams)\n",
    "player = pd.DataFrame(player_dict)\n",
    "\n",
    "#to check if there are any null values in the raw data\n",
    "player.isnull().sum(), team.isnull().sum()"
   ]
  }
 ],
 "metadata": {
  "kernelspec": {
   "display_name": "Python 3 (ipykernel)",
   "language": "python",
   "name": "python3"
  },
  "language_info": {
   "codemirror_mode": {
    "name": "ipython",
    "version": 3
   },
   "file_extension": ".py",
   "mimetype": "text/x-python",
   "name": "python",
   "nbconvert_exporter": "python",
   "pygments_lexer": "ipython3",
   "version": "3.7.13"
  }
 },
 "nbformat": 4,
 "nbformat_minor": 5
}
